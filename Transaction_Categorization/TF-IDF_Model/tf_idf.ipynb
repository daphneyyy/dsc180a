{
 "cells": [
  {
   "cell_type": "code",
   "execution_count": 31,
   "id": "6f04bd2e",
   "metadata": {},
   "outputs": [],
   "source": [
    "# import required packages\n",
    "import seaborn as sns\n",
    "import time\n",
    "\n",
    "import pandas as pd\n",
    "import numpy as np\n",
    "\n",
    "from sklearn.model_selection import train_test_split\n",
    "import re\n",
    "import matplotlib.pyplot as plt\n",
    "\n",
    "from sklearn.feature_extraction.text import TfidfVectorizer\n",
    "from sklearn.metrics import accuracy_score, confusion_matrix, classification_report\n",
    "from sklearn.svm import LinearSVC \n",
    "from sklearn.pipeline import Pipeline,FeatureUnion\n",
    "from sklearn.preprocessing import StandardScaler\n",
    "from sklearn.preprocessing import OneHotEncoder\n",
    "from sklearn.compose import ColumnTransformer"
   ]
  },
  {
   "cell_type": "code",
   "execution_count": 2,
   "id": "2508c2f2",
   "metadata": {},
   "outputs": [],
   "source": [
    "# upload the dataset and load the data.\n",
    "# this dataset contains the date information for transaction.\n",
    "file1 = 'Transacation_outflows_with_date_3k_firsthalf.pqt'\n",
    "data1 = pd.read_parquet(file1, engine='auto')\n",
    "file2 = 'Transacation_outflows_with_date_3k_secondhalf.pqt'\n",
    "data2 = pd.read_parquet(file2, engine='auto')"
   ]
  },
  {
   "cell_type": "code",
   "execution_count": 3,
   "id": "26fa1381",
   "metadata": {},
   "outputs": [],
   "source": [
    "# create a dataframe for the dataset\n",
    "df = pd.concat([data1, data2], axis=0)"
   ]
  },
  {
   "cell_type": "code",
   "execution_count": 4,
   "id": "dd791ad4",
   "metadata": {},
   "outputs": [
    {
     "data": {
      "text/plain": [
       "prism_consumer_id                                  0\n",
       "prism_account_id                               acc_0\n",
       "memo                 39 PIADA CUYAHOGA FALL OH 06/19\n",
       "amount                                         23.45\n",
       "posted_date                               2022-06-21\n",
       "category                          FOOD_AND_BEVERAGES\n",
       "Name: 79, dtype: object"
      ]
     },
     "execution_count": 4,
     "metadata": {},
     "output_type": "execute_result"
    }
   ],
   "source": [
    "df.loc[79]"
   ]
  },
  {
   "cell_type": "code",
   "execution_count": 5,
   "id": "35dcd8fc",
   "metadata": {},
   "outputs": [],
   "source": [
    "# Filter the required categories and define a new dataset\n",
    "# which only contains these categories.\n",
    "categories_filter = ['GENERAL_MERCHANDISE', 'FOOD_AND_BEVERAGES', 'GROCERIES', 'TRAVEL', 'PETS', 'EDUCATION', 'OVERDRAFT', 'RENT', 'MORTGAGE']\n",
    "df = df[df['category'].isin(categories_filter)]"
   ]
  },
  {
   "cell_type": "code",
   "execution_count": 6,
   "id": "cf891dae",
   "metadata": {},
   "outputs": [
    {
     "data": {
      "text/plain": [
       "1306452"
      ]
     },
     "execution_count": 6,
     "metadata": {},
     "output_type": "execute_result"
    }
   ],
   "source": [
    "len(df)"
   ]
  },
  {
   "cell_type": "code",
   "execution_count": 7,
   "id": "cb3277dd",
   "metadata": {},
   "outputs": [],
   "source": [
    "# Data Cleanning Process Part\n",
    "\n",
    "\n",
    "## Changing memo_clean column values to all lower case first.\n",
    "df['memo'] = df['memo'].str.lower()\n",
    "\n",
    "\n",
    "## Use regular expressions to remove text after \".com*\" \n",
    "## and keep the preceding text from \".com\"\n",
    "def clean_text1(text):\n",
    "    # Use regular expressions to remove text after \".com*\" and keep the preceding text from \".com\"\n",
    "    cleaned_text = re.sub(r'\\.com\\*.*?(?=\\s|$)', '', text)\n",
    "    return cleaned_text\n",
    "\n",
    "\n",
    "## Removing useless pattenrs\n",
    "def remove_key_phrases(text):\n",
    "    phrases = [\n",
    "        'pos debit - visa check card xxxx - ',\n",
    "        'purchase authorized on xx/xx',\n",
    "        'pos purchase',\n",
    "        'purchase',\n",
    "        'pos',\n",
    "        'web id',\n",
    "        'terminal id',\n",
    "        'id'\n",
    "    ]\n",
    "    for phrase in phrases:\n",
    "        text = re.sub(phrase, '', text)\n",
    "    return text\n",
    "\n",
    "\n",
    "## Removing special characters.\n",
    "def remove_special_char(text):\n",
    "    return re.sub(r'[^a-zA-Z0-9\\s]', ' ', text)\n",
    "\n",
    "\n",
    "## Removing all the repeat 'x' patterns\n",
    "def remove_xs(text):\n",
    "    text = re.sub(r'(xx+)\\b', ' ', text)\n",
    "    text = re.sub(r'\\b(x)\\b', ' ', text)\n",
    "    text = re.sub(r'\\b(xx+)([a-zA-Z])', r'xx\\2', text)\n",
    "    return text\n",
    "\n",
    "\n",
    "## Simplify repeating pattenrs for amazon and walmart\n",
    "def standardize_phrase(text):\n",
    "    text = re.sub(r'\\b(amazon|amzn|amz)\\b', 'amazon', text)\n",
    "    text = re.sub(r'\\b(wal\\smart|wal|wm\\ssupercenter|wm\\ssuperc|wm)\\b', 'walmart', text)\n",
    "    return text\n",
    "\n",
    "\n",
    "## Removing multiple spaces\n",
    "def remove_multiple_spaces(text):\n",
    "    text = re.sub(r'\\s+', ' ', text)\n",
    "    return text.strip()\n",
    "\n",
    "## Removing numbers and \"oh\" patterns in the end of strings\n",
    "def remove_numbers_and_oh(sentence):\n",
    "    # Define the regular expression pattern to match numbers, \"oh,\" and date-like patterns at the end of the sentence\n",
    "    pattern = re.compile(r'\\b(?:\\d+\\s*|oh\\s*|\\d{1,2}/\\d{1,2})+$')\n",
    "\n",
    "    # Find the match in the sentence\n",
    "    match = pattern.search(sentence)\n",
    "\n",
    "    if match:\n",
    "        # If there is a match, remove the matched part from the end of the sentence\n",
    "        sentence = sentence[:match.start()].rstrip()\n",
    "\n",
    "    return sentence\n"
   ]
  },
  {
   "cell_type": "code",
   "execution_count": 8,
   "id": "63937849",
   "metadata": {},
   "outputs": [],
   "source": [
    "# Applying thoese cleaning functions to the subset of the dataset\n",
    "# that we choose.\n",
    "dff = df.copy()\n",
    "dff['memo'] = dff['memo'].apply(clean_text1)\n",
    "dff['memo'] = dff['memo'].apply(remove_key_phrases)\n",
    "dff['memo'] = dff['memo'].apply(remove_special_char)\n",
    "dff['memo'] = dff['memo'].apply(remove_xs)\n",
    "dff['memo'] = dff['memo'].apply(standardize_phrase)\n",
    "dff['memo'] = dff['memo'].apply(remove_multiple_spaces)\n",
    "dff['memo'] = dff['memo'].apply(remove_numbers_and_oh)"
   ]
  },
  {
   "cell_type": "code",
   "execution_count": 9,
   "id": "8e20ec34",
   "metadata": {},
   "outputs": [],
   "source": [
    "dff['new_date'] = pd.to_datetime(dff['posted_date'])\n",
    "\n",
    "# Extract month, day, and weekday into new columns\n",
    "dff['month'] = dff['new_date'].dt.month\n",
    "dff['day'] = dff['new_date'].dt.day\n",
    "dff['weekday'] = dff['new_date'].dt.weekday  # Full weekday name\n",
    "\n",
    "# Display the result"
   ]
  },
  {
   "cell_type": "code",
   "execution_count": 10,
   "id": "7670e2d1",
   "metadata": {},
   "outputs": [
    {
     "data": {
      "text/html": [
       "<div>\n",
       "<style scoped>\n",
       "    .dataframe tbody tr th:only-of-type {\n",
       "        vertical-align: middle;\n",
       "    }\n",
       "\n",
       "    .dataframe tbody tr th {\n",
       "        vertical-align: top;\n",
       "    }\n",
       "\n",
       "    .dataframe thead th {\n",
       "        text-align: right;\n",
       "    }\n",
       "</style>\n",
       "<table border=\"1\" class=\"dataframe\">\n",
       "  <thead>\n",
       "    <tr style=\"text-align: right;\">\n",
       "      <th></th>\n",
       "      <th>prism_consumer_id</th>\n",
       "      <th>prism_account_id</th>\n",
       "      <th>memo</th>\n",
       "      <th>amount</th>\n",
       "      <th>posted_date</th>\n",
       "      <th>category</th>\n",
       "      <th>new_date</th>\n",
       "      <th>month</th>\n",
       "      <th>day</th>\n",
       "      <th>weekday</th>\n",
       "    </tr>\n",
       "  </thead>\n",
       "  <tbody>\n",
       "    <tr>\n",
       "      <th>2</th>\n",
       "      <td>0</td>\n",
       "      <td>acc_0</td>\n",
       "      <td>tst casa del rio exp fairlawn</td>\n",
       "      <td>18.42</td>\n",
       "      <td>2022-09-26</td>\n",
       "      <td>FOOD_AND_BEVERAGES</td>\n",
       "      <td>2022-09-26</td>\n",
       "      <td>9</td>\n",
       "      <td>26</td>\n",
       "      <td>0</td>\n",
       "    </tr>\n",
       "    <tr>\n",
       "      <th>4</th>\n",
       "      <td>0</td>\n",
       "      <td>acc_0</td>\n",
       "      <td>buffalo wild wings</td>\n",
       "      <td>26.47</td>\n",
       "      <td>2022-09-12</td>\n",
       "      <td>FOOD_AND_BEVERAGES</td>\n",
       "      <td>2022-09-12</td>\n",
       "      <td>9</td>\n",
       "      <td>12</td>\n",
       "      <td>0</td>\n",
       "    </tr>\n",
       "    <tr>\n",
       "      <th>6</th>\n",
       "      <td>0</td>\n",
       "      <td>acc_0</td>\n",
       "      <td>oculus ca</td>\n",
       "      <td>11.73</td>\n",
       "      <td>2022-04-18</td>\n",
       "      <td>GENERAL_MERCHANDISE</td>\n",
       "      <td>2022-04-18</td>\n",
       "      <td>4</td>\n",
       "      <td>18</td>\n",
       "      <td>0</td>\n",
       "    </tr>\n",
       "    <tr>\n",
       "      <th>7</th>\n",
       "      <td>0</td>\n",
       "      <td>acc_0</td>\n",
       "      <td>los girasoles stow</td>\n",
       "      <td>30.04</td>\n",
       "      <td>2022-03-09</td>\n",
       "      <td>FOOD_AND_BEVERAGES</td>\n",
       "      <td>2022-03-09</td>\n",
       "      <td>3</td>\n",
       "      <td>9</td>\n",
       "      <td>2</td>\n",
       "    </tr>\n",
       "    <tr>\n",
       "      <th>8</th>\n",
       "      <td>0</td>\n",
       "      <td>acc_0</td>\n",
       "      <td>buzzis laundry</td>\n",
       "      <td>4.16</td>\n",
       "      <td>2022-03-29</td>\n",
       "      <td>GENERAL_MERCHANDISE</td>\n",
       "      <td>2022-03-29</td>\n",
       "      <td>3</td>\n",
       "      <td>29</td>\n",
       "      <td>1</td>\n",
       "    </tr>\n",
       "  </tbody>\n",
       "</table>\n",
       "</div>"
      ],
      "text/plain": [
       "   prism_consumer_id prism_account_id                           memo  amount  \\\n",
       "2                  0            acc_0  tst casa del rio exp fairlawn   18.42   \n",
       "4                  0            acc_0             buffalo wild wings   26.47   \n",
       "6                  0            acc_0                      oculus ca   11.73   \n",
       "7                  0            acc_0             los girasoles stow   30.04   \n",
       "8                  0            acc_0                 buzzis laundry    4.16   \n",
       "\n",
       "  posted_date             category   new_date  month  day  weekday  \n",
       "2  2022-09-26   FOOD_AND_BEVERAGES 2022-09-26      9   26        0  \n",
       "4  2022-09-12   FOOD_AND_BEVERAGES 2022-09-12      9   12        0  \n",
       "6  2022-04-18  GENERAL_MERCHANDISE 2022-04-18      4   18        0  \n",
       "7  2022-03-09   FOOD_AND_BEVERAGES 2022-03-09      3    9        2  \n",
       "8  2022-03-29  GENERAL_MERCHANDISE 2022-03-29      3   29        1  "
      ]
     },
     "execution_count": 10,
     "metadata": {},
     "output_type": "execute_result"
    }
   ],
   "source": [
    "dff.head()"
   ]
  },
  {
   "cell_type": "code",
   "execution_count": 11,
   "id": "f4f22507",
   "metadata": {},
   "outputs": [],
   "source": [
    "dff = dff.drop(['prism_consumer_id', 'prism_account_id', 'posted_date', 'new_date'], axis =1)"
   ]
  },
  {
   "cell_type": "code",
   "execution_count": 12,
   "id": "fb91e6f7",
   "metadata": {
    "scrolled": true
   },
   "outputs": [
    {
     "data": {
      "text/html": [
       "<div>\n",
       "<style scoped>\n",
       "    .dataframe tbody tr th:only-of-type {\n",
       "        vertical-align: middle;\n",
       "    }\n",
       "\n",
       "    .dataframe tbody tr th {\n",
       "        vertical-align: top;\n",
       "    }\n",
       "\n",
       "    .dataframe thead th {\n",
       "        text-align: right;\n",
       "    }\n",
       "</style>\n",
       "<table border=\"1\" class=\"dataframe\">\n",
       "  <thead>\n",
       "    <tr style=\"text-align: right;\">\n",
       "      <th></th>\n",
       "      <th>memo</th>\n",
       "      <th>amount</th>\n",
       "      <th>category</th>\n",
       "      <th>month</th>\n",
       "      <th>day</th>\n",
       "      <th>weekday</th>\n",
       "    </tr>\n",
       "  </thead>\n",
       "  <tbody>\n",
       "    <tr>\n",
       "      <th>2</th>\n",
       "      <td>tst casa del rio exp fairlawn</td>\n",
       "      <td>18.42</td>\n",
       "      <td>FOOD_AND_BEVERAGES</td>\n",
       "      <td>9</td>\n",
       "      <td>26</td>\n",
       "      <td>0</td>\n",
       "    </tr>\n",
       "    <tr>\n",
       "      <th>4</th>\n",
       "      <td>buffalo wild wings</td>\n",
       "      <td>26.47</td>\n",
       "      <td>FOOD_AND_BEVERAGES</td>\n",
       "      <td>9</td>\n",
       "      <td>12</td>\n",
       "      <td>0</td>\n",
       "    </tr>\n",
       "    <tr>\n",
       "      <th>6</th>\n",
       "      <td>oculus ca</td>\n",
       "      <td>11.73</td>\n",
       "      <td>GENERAL_MERCHANDISE</td>\n",
       "      <td>4</td>\n",
       "      <td>18</td>\n",
       "      <td>0</td>\n",
       "    </tr>\n",
       "    <tr>\n",
       "      <th>7</th>\n",
       "      <td>los girasoles stow</td>\n",
       "      <td>30.04</td>\n",
       "      <td>FOOD_AND_BEVERAGES</td>\n",
       "      <td>3</td>\n",
       "      <td>9</td>\n",
       "      <td>2</td>\n",
       "    </tr>\n",
       "    <tr>\n",
       "      <th>8</th>\n",
       "      <td>buzzis laundry</td>\n",
       "      <td>4.16</td>\n",
       "      <td>GENERAL_MERCHANDISE</td>\n",
       "      <td>3</td>\n",
       "      <td>29</td>\n",
       "      <td>1</td>\n",
       "    </tr>\n",
       "  </tbody>\n",
       "</table>\n",
       "</div>"
      ],
      "text/plain": [
       "                            memo  amount             category  month  day  \\\n",
       "2  tst casa del rio exp fairlawn   18.42   FOOD_AND_BEVERAGES      9   26   \n",
       "4             buffalo wild wings   26.47   FOOD_AND_BEVERAGES      9   12   \n",
       "6                      oculus ca   11.73  GENERAL_MERCHANDISE      4   18   \n",
       "7             los girasoles stow   30.04   FOOD_AND_BEVERAGES      3    9   \n",
       "8                 buzzis laundry    4.16  GENERAL_MERCHANDISE      3   29   \n",
       "\n",
       "   weekday  \n",
       "2        0  \n",
       "4        0  \n",
       "6        0  \n",
       "7        2  \n",
       "8        1  "
      ]
     },
     "execution_count": 12,
     "metadata": {},
     "output_type": "execute_result"
    }
   ],
   "source": [
    "dff.head()"
   ]
  },
  {
   "cell_type": "code",
   "execution_count": 13,
   "id": "f278edfc",
   "metadata": {},
   "outputs": [],
   "source": [
    "# Define the feature dataframe \"X\" and prediction column \"y\".\n",
    "X = dff[[\"memo\",'amount', 'month', 'day','weekday']]\n",
    "y = dff['category']"
   ]
  },
  {
   "cell_type": "code",
   "execution_count": 14,
   "id": "a3d3c95e",
   "metadata": {},
   "outputs": [],
   "source": [
    "# Doing the train and test split\n",
    "X_train, X_test, y_train, y_test = train_test_split(X, y, test_size=0.2, random_state=101)"
   ]
  },
  {
   "cell_type": "code",
   "execution_count": 15,
   "id": "0204dbd5",
   "metadata": {},
   "outputs": [],
   "source": [
    "# standardize these new_added features\n",
    "std_pl = Pipeline(steps=[('std',StandardScaler())])\n",
    "# one-hot-encode nominal features\n",
    "encode_pl = Pipeline(steps=[('encode',OneHotEncoder(handle_unknown='ignore'))])"
   ]
  },
  {
   "cell_type": "code",
   "execution_count": 16,
   "id": "a9cd935d",
   "metadata": {},
   "outputs": [
    {
     "name": "stdout",
     "output_type": "stream",
     "text": [
      "Transformer: tfidf\n",
      "Shape after transformation: (1045161, 1341877)\n",
      "Transformer: quant\n",
      "Shape after transformation: (1045161, 1)\n",
      "Transformer: cat\n",
      "Shape after transformation: (1045161, 50)\n"
     ]
    }
   ],
   "source": [
    "# create columntransformer\n",
    "## Using tf-idf to encode the memo column with ngram within maximum of three. \n",
    "## Using standardize pipline to normalize the amount.\n",
    "## Using one-hot encode for date value.\n",
    "preproc1 = ColumnTransformer( transformers = [\n",
    "        ('tfidf', TfidfVectorizer(ngram_range = (1,3)), 'memo'),\n",
    "        ('quant',std_pl,['amount']),\n",
    "        ('cat', encode_pl, ['month', 'day', 'weekday'])\n",
    "] )\n",
    "preproc1 \n",
    "\n",
    "# Print shape after each transformer\n",
    "for name, trans, cols in preproc1.transformers:\n",
    "    print(f\"Transformer: {name}\")\n",
    "    X_transformed = trans.fit_transform(X_train[cols])\n",
    "    print(f\"Shape after transformation: {X_transformed.shape}\")"
   ]
  },
  {
   "cell_type": "code",
   "execution_count": 17,
   "id": "c3902ed5",
   "metadata": {},
   "outputs": [],
   "source": [
    "# create the final pipline\n",
    "# using Linear Support Vector Classification model\n",
    "pl = Pipeline([\n",
    "    ('preprocessor', preproc1),\n",
    "    ('clf', LinearSVC())\n",
    "])"
   ]
  },
  {
   "cell_type": "code",
   "execution_count": 18,
   "id": "52f67154",
   "metadata": {},
   "outputs": [
    {
     "name": "stderr",
     "output_type": "stream",
     "text": [
      "/opt/conda/lib/python3.9/site-packages/sklearn/svm/_base.py:985: ConvergenceWarning: Liblinear failed to converge, increase the number of iterations.\n",
      "  warnings.warn(\"Liblinear failed to converge, increase \"\n"
     ]
    }
   ],
   "source": [
    "# build a model\n",
    "mod = pl.fit(X_train,y_train)"
   ]
  },
  {
   "cell_type": "code",
   "execution_count": 19,
   "id": "b69710a2",
   "metadata": {},
   "outputs": [
    {
     "data": {
      "text/plain": [
       "Pipeline(steps=[('preprocessor',\n",
       "                 ColumnTransformer(transformers=[('tfidf',\n",
       "                                                  TfidfVectorizer(ngram_range=(1,\n",
       "                                                                               3)),\n",
       "                                                  'memo'),\n",
       "                                                 ('quant',\n",
       "                                                  Pipeline(steps=[('std',\n",
       "                                                                   StandardScaler())]),\n",
       "                                                  ['amount']),\n",
       "                                                 ('cat',\n",
       "                                                  Pipeline(steps=[('encode',\n",
       "                                                                   OneHotEncoder(handle_unknown='ignore'))]),\n",
       "                                                  ['month', 'day',\n",
       "                                                   'weekday'])])),\n",
       "                ('clf', LinearSVC())])"
      ]
     },
     "execution_count": 19,
     "metadata": {},
     "output_type": "execute_result"
    }
   ],
   "source": [
    "mod"
   ]
  },
  {
   "cell_type": "code",
   "execution_count": 24,
   "id": "54e724f7",
   "metadata": {},
   "outputs": [
    {
     "data": {
      "text/plain": [
       "0.9911784179324967"
      ]
     },
     "execution_count": 24,
     "metadata": {},
     "output_type": "execute_result"
    }
   ],
   "source": [
    "# calcualte the accuracy score for our model\n",
    "mod.score(X_test,y_test)"
   ]
  },
  {
   "cell_type": "code",
   "execution_count": 30,
   "id": "c494d9dd",
   "metadata": {
    "scrolled": true
   },
   "outputs": [
    {
     "name": "stdout",
     "output_type": "stream",
     "text": [
      "Classification report: \n",
      "                      precision    recall  f1-score   support\n",
      "\n",
      "          EDUCATION       0.97      0.95      0.96       904\n",
      " FOOD_AND_BEVERAGES       0.99      0.99      0.99     96593\n",
      "GENERAL_MERCHANDISE       0.99      0.99      0.99    104920\n",
      "          GROCERIES       0.99      0.99      0.99     43580\n",
      "           MORTGAGE       1.00      1.00      1.00       220\n",
      "          OVERDRAFT       1.00      1.00      1.00       673\n",
      "               PETS       1.00      0.99      0.99      1871\n",
      "               RENT       0.98      0.98      0.98       635\n",
      "             TRAVEL       0.99      0.99      0.99     11895\n",
      "\n",
      "           accuracy                           0.99    261291\n",
      "          macro avg       0.99      0.99      0.99    261291\n",
      "       weighted avg       0.99      0.99      0.99    261291\n",
      "\n"
     ]
    },
    {
     "data": {
      "text/plain": [
       "<AxesSubplot:>"
      ]
     },
     "execution_count": 30,
     "metadata": {},
     "output_type": "execute_result"
    },
    {
     "data": {
      "image/png": "[encoded data removed]",
      "text/plain": [
       "<Figure size 576x432 with 2 Axes>"
      ]
     },
     "metadata": {
      "needs_background": "light"
     },
     "output_type": "display_data"
    }
   ],
   "source": [
    "# getting the metric report to evaluate our model performance\n",
    "pred_test = pl.predict(X_test)\n",
    "print('Classification report: \\n', classification_report(y_test, pred_test))\n",
    "conf_mat = confusion_matrix(y_test, pred_test)\n",
    "plt.figure(figsize=(8,6))\n",
    "sns.heatmap(conf_mat, annot=True, fmt='d', cmap='Blues',\n",
    "                xticklabels=dff['category'].unique(), yticklabels=dff['category'].unique())\n"
   ]
  },
  {
   "cell_type": "code",
   "execution_count": null,
   "id": "4b46021f",
   "metadata": {},
   "outputs": [],
   "source": []
  }
 ],
 "metadata": {
  "kernelspec": {
   "display_name": "Python 3 (ipykernel)",
   "language": "python",
   "name": "python3"
  },
  "language_info": {
   "codemirror_mode": {
    "name": "ipython",
    "version": 3
   },
   "file_extension": ".py",
   "mimetype": "text/x-python",
   "name": "python",
   "nbconvert_exporter": "python",
   "pygments_lexer": "ipython3",
   "version": "3.9.5"
  }
 },
 "nbformat": 4,
 "nbformat_minor": 5
}
